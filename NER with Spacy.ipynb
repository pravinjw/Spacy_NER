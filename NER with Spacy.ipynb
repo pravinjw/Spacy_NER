{
 "cells": [
  {
   "cell_type": "markdown",
   "id": "4d514b72",
   "metadata": {},
   "source": [
    "## <font color = blue> Name Entity Recognization"
   ]
  },
  {
   "cell_type": "raw",
   "id": "373ef98e",
   "metadata": {},
   "source": [
    "Natural Language Processing deals with text data. The amount of text data generated these days is enormous. And, this data if utilized properly can bring many fruitful results. Some of the most important Natural Language Processing applications are Text Analytics, Parts of Speech Tagging, Sentiment Analysis, and Named Entity Recognition.\n",
    "\n",
    "The vast amount of text data contains a huge amount of information. An important aspect of analyzing these text data is the identification of Named Entities."
   ]
  },
  {
   "cell_type": "raw",
   "id": "b643f843",
   "metadata": {},
   "source": [
    "What is a Named Entity?\n",
    "\n",
    "A named entity is basically a real-life object which has proper identification and can be denoted with a proper name. Named Entities can be a place, person, organization, time, object, or geographic entity.\n",
    "\n",
    "For example, named entities would be Roger Federer, Honda city, Samsung Galaxy S10. Named entities are usually instances of entity instances. For example, Roger Federer is an instance of a Tennis Player/person, Honda City is an instance of a car and Samsung Galaxy S10 is an instance of a Mobile Phone. "
   ]
  },
  {
   "cell_type": "raw",
   "id": "b075d979",
   "metadata": {},
   "source": [
    "Named Entity Recognition:\n",
    "\n",
    "Named Entity Recognition is the process of NLP which deals with identifying and classifying named entities. The raw and structured text is taken and named entities are classified into persons, organizations, places, money, time, etc. Basically, named entities are identified and segmented into various predefined classes.\n",
    "\n",
    "NER model first identifies an entity and then categorizes the entity into the most suitable class. Some of the common types of Named Entities will be:\n",
    "\n",
    "    Organisations : NASA, CERN, ISRO, etc\n",
    "    Places: Mumbai, New York, Kolkata.\n",
    "    Money: 1 Billion Dollars, 50 Great Britain Pounds.\n",
    "    Date: 15th August 2020\n",
    "    Person: Pravin, Radhika, etc"
   ]
  },
  {
   "cell_type": "markdown",
   "id": "45d7c44a",
   "metadata": {},
   "source": [
    "## <font color = blue> Name Entity Recognization with Spacy"
   ]
  },
  {
   "cell_type": "code",
   "execution_count": 2,
   "id": "ed4820f2",
   "metadata": {},
   "outputs": [],
   "source": [
    "# Import spacy and create instance of spacy for name entity recognization(ner)\n",
    "import spacy\n",
    "\n",
    "ner = spacy.load('en_core_web_sm')"
   ]
  },
  {
   "cell_type": "code",
   "execution_count": 3,
   "id": "8762042e",
   "metadata": {},
   "outputs": [],
   "source": [
    "doc = ner(u\"Pravin, Radhika and Rutvik went to Akola\")"
   ]
  },
  {
   "cell_type": "markdown",
   "id": "0fd50b81",
   "metadata": {},
   "source": [
    "### <font color = blue> Simple text can be retireved from above instance"
   ]
  },
  {
   "cell_type": "code",
   "execution_count": 4,
   "id": "17e7d2d6",
   "metadata": {},
   "outputs": [
    {
     "data": {
      "text/plain": [
       "'Pravin, Radhika and Rutvik went to Akola'"
      ]
     },
     "execution_count": 4,
     "metadata": {},
     "output_type": "execute_result"
    }
   ],
   "source": [
    "doc.text"
   ]
  },
  {
   "cell_type": "markdown",
   "id": "43e6626b",
   "metadata": {},
   "source": [
    "### <font color = blue> Words can be retireved just like list or string indexing from sentence"
   ]
  },
  {
   "cell_type": "code",
   "execution_count": 5,
   "id": "7e43a73b",
   "metadata": {},
   "outputs": [
    {
     "data": {
      "text/plain": [
       "Pravin"
      ]
     },
     "execution_count": 5,
     "metadata": {},
     "output_type": "execute_result"
    }
   ],
   "source": [
    "doc[0]"
   ]
  },
  {
   "cell_type": "code",
   "execution_count": 6,
   "id": "2cc10cfd",
   "metadata": {},
   "outputs": [
    {
     "data": {
      "text/plain": [
       "Akola"
      ]
     },
     "execution_count": 6,
     "metadata": {},
     "output_type": "execute_result"
    }
   ],
   "source": [
    "doc[-1]"
   ]
  },
  {
   "cell_type": "markdown",
   "id": "058c2837",
   "metadata": {},
   "source": [
    "### <font color = blue> Fine and Coarse Pos tagging"
   ]
  },
  {
   "cell_type": "code",
   "execution_count": 7,
   "id": "98c097a3",
   "metadata": {},
   "outputs": [
    {
     "data": {
      "text/plain": [
       "'NNP'"
      ]
     },
     "execution_count": 7,
     "metadata": {},
     "output_type": "execute_result"
    }
   ],
   "source": [
    "# Coarse part of speech tagging\n",
    "\n",
    "doc[0].pos_     # corse\n",
    "doc[0].tag_     # fine"
   ]
  },
  {
   "cell_type": "code",
   "execution_count": 8,
   "id": "06ea5906",
   "metadata": {},
   "outputs": [
    {
     "data": {
      "text/plain": [
       "'NNP'"
      ]
     },
     "execution_count": 8,
     "metadata": {},
     "output_type": "execute_result"
    }
   ],
   "source": [
    "# fine tagging\n",
    "doc[0].tag_     # fine"
   ]
  },
  {
   "cell_type": "code",
   "execution_count": 9,
   "id": "4ec56bb5",
   "metadata": {},
   "outputs": [
    {
     "data": {
      "text/plain": [
       "'PROPN'"
      ]
     },
     "execution_count": 9,
     "metadata": {},
     "output_type": "execute_result"
    }
   ],
   "source": [
    "doc[0].pos_"
   ]
  },
  {
   "cell_type": "markdown",
   "id": "63c97ba1",
   "metadata": {},
   "source": [
    "### <font color = blue> Get the meaning of tags"
   ]
  },
  {
   "cell_type": "code",
   "execution_count": 10,
   "id": "c6b14d50",
   "metadata": {},
   "outputs": [
    {
     "data": {
      "text/plain": [
       "'proper noun'"
      ]
     },
     "execution_count": 10,
     "metadata": {},
     "output_type": "execute_result"
    }
   ],
   "source": [
    "spacy.explain('PROPN')"
   ]
  },
  {
   "cell_type": "code",
   "execution_count": 11,
   "id": "0e6ed9cd",
   "metadata": {},
   "outputs": [
    {
     "data": {
      "text/plain": [
       "'noun, proper singular'"
      ]
     },
     "execution_count": 11,
     "metadata": {},
     "output_type": "execute_result"
    }
   ],
   "source": [
    "spacy.explain('NNP')"
   ]
  },
  {
   "cell_type": "markdown",
   "id": "3eb35935",
   "metadata": {},
   "source": [
    "### <font color = blue> Tag all the words"
   ]
  },
  {
   "cell_type": "code",
   "execution_count": 12,
   "id": "5e115480",
   "metadata": {},
   "outputs": [
    {
     "name": "stdout",
     "output_type": "stream",
     "text": [
      "Pravin ------> PROPN NNP noun, proper singular\n",
      ", ------> PUNCT , punctuation mark, comma\n",
      "Radhika ------> PROPN NNP noun, proper singular\n",
      "and ------> CCONJ CC conjunction, coordinating\n",
      "Rutvik ------> PROPN NNP noun, proper singular\n",
      "went ------> VERB VBD verb, past tense\n",
      "to ------> ADP IN conjunction, subordinating or preposition\n",
      "Akola ------> PROPN NNP noun, proper singular\n"
     ]
    }
   ],
   "source": [
    "for word in doc:\n",
    "    print(word.text,\"------>\", word.pos_,word.tag_,spacy.explain(word.tag_))"
   ]
  },
  {
   "cell_type": "markdown",
   "id": "a8a2a578",
   "metadata": {},
   "source": [
    "### <font color = blue> WAP to extract only names"
   ]
  },
  {
   "cell_type": "code",
   "execution_count": 17,
   "id": "fe942cea",
   "metadata": {},
   "outputs": [
    {
     "name": "stdout",
     "output_type": "stream",
     "text": [
      "Pravin ------> PROPN NNP noun, proper singular\n",
      ", ------> PUNCT , punctuation mark, comma\n",
      "Radhika ------> PROPN NNP noun, proper singular\n",
      "and ------> CCONJ CC conjunction, coordinating\n",
      "Rutvik ------> PROPN NNP noun, proper singular\n",
      "went ------> VERB VBD verb, past tense\n",
      "to ------> ADP IN conjunction, subordinating or preposition\n",
      "Akola ------> PROPN NNP noun, proper singular\n"
     ]
    },
    {
     "data": {
      "text/plain": [
       "[Pravin, Radhika, Rutvik, Akola]"
      ]
     },
     "execution_count": 17,
     "metadata": {},
     "output_type": "execute_result"
    }
   ],
   "source": [
    "doc = ner(\"Pravin, Radhika and Rutvik went to Akola\")\n",
    "\n",
    "name = []\n",
    "\n",
    "for word in doc:\n",
    "    print(word.text,\"------>\", word.pos_,word.tag_,spacy.explain(word.tag_))\n",
    "    if word.pos_ == 'PROPN':\n",
    "        name.append(word)\n",
    "        \n",
    "name"
   ]
  },
  {
   "cell_type": "markdown",
   "id": "e81a5888",
   "metadata": {},
   "source": [
    "### Example 2"
   ]
  },
  {
   "cell_type": "code",
   "execution_count": 19,
   "id": "a666e466",
   "metadata": {},
   "outputs": [],
   "source": [
    "raw_text='''The Indian Space Research Organisation or is the national space agency of India, headquartered in Bengaluru. It operates under Department of Space which is directly overseen by the Prime Minister of India while Chairman of ISRO acts as executive of DOS as well.'''"
   ]
  },
  {
   "cell_type": "code",
   "execution_count": 20,
   "id": "ed420f15",
   "metadata": {},
   "outputs": [
    {
     "name": "stdout",
     "output_type": "stream",
     "text": [
      "The Indian Space Research Organisation ORG\n",
      "the national space agency ORG\n",
      "India GPE\n",
      "Bengaluru GPE\n",
      "Department of Space ORG\n",
      "India GPE\n",
      "ISRO ORG\n",
      "DOS ORG\n"
     ]
    }
   ],
   "source": [
    "doc = ner(raw_text)\n",
    "\n",
    "for word in doc.ents:\n",
    "    print(word.text, word.label_)"
   ]
  },
  {
   "cell_type": "markdown",
   "id": "b9ba8c46",
   "metadata": {},
   "source": [
    "### Example 3: Extract Contact Numbers only"
   ]
  },
  {
   "cell_type": "code",
   "execution_count": 32,
   "id": "06994b5c",
   "metadata": {},
   "outputs": [
    {
     "name": "stdout",
     "output_type": "stream",
     "text": [
      "I PRON\n",
      "am AUX\n",
      "Pravin PROPN\n",
      "Jawarkar PROPN\n",
      ". PUNCT\n",
      "My PRON\n",
      "contact NOUN\n",
      "details NOUN\n",
      "are AUX\n",
      "9156691740 NUM\n",
      "and CCONJ\n",
      "9860258196 NUM\n",
      ". PUNCT\n",
      "Flat ADJ\n",
      "no PRON\n",
      "is AUX\n",
      "Rohini PROPN\n",
      "J PROPN\n",
      "204 NUM\n"
     ]
    },
    {
     "data": {
      "text/plain": [
       "[9156691740, 9860258196, 204]"
      ]
     },
     "execution_count": 32,
     "metadata": {},
     "output_type": "execute_result"
    }
   ],
   "source": [
    "text = '''I am Pravin Jawarkar. My contact details are 9156691740 and 9860258196. Flat no is Rohini J 204'''\n",
    "\n",
    "doc2 = ner(text)\n",
    "\n",
    "numbers = []\n",
    "\n",
    "for word in doc2:\n",
    "    print(word, word.pos_)\n",
    "    if word.pos_ == 'NUM':\n",
    "        numbers.append(word)\n",
    "        \n",
    "numbers    "
   ]
  },
  {
   "cell_type": "code",
   "execution_count": 34,
   "id": "c14b2ba5",
   "metadata": {},
   "outputs": [
    {
     "name": "stdout",
     "output_type": "stream",
     "text": [
      "9156691740\n",
      "9860258196\n"
     ]
    },
    {
     "data": {
      "text/plain": [
       "[9156691740, 9860258196]"
      ]
     },
     "execution_count": 34,
     "metadata": {},
     "output_type": "execute_result"
    }
   ],
   "source": [
    "contact_details = []\n",
    "for num in numbers:         # numbers= [9156691740, 9860258196, 204], to extract only contact apply for loop\n",
    "    if len(num)== 10:\n",
    "        print(num)\n",
    "        contact_details.append(num)\n",
    "        \n",
    "contact_details"
   ]
  },
  {
   "cell_type": "code",
   "execution_count": null,
   "id": "69aaa43e",
   "metadata": {},
   "outputs": [],
   "source": []
  }
 ],
 "metadata": {
  "kernelspec": {
   "display_name": "Python 3 (ipykernel)",
   "language": "python",
   "name": "python3"
  },
  "language_info": {
   "codemirror_mode": {
    "name": "ipython",
    "version": 3
   },
   "file_extension": ".py",
   "mimetype": "text/x-python",
   "name": "python",
   "nbconvert_exporter": "python",
   "pygments_lexer": "ipython3",
   "version": "3.9.7"
  }
 },
 "nbformat": 4,
 "nbformat_minor": 5
}
